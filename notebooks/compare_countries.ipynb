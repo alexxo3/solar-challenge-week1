{
 "cells": [
  {
   "cell_type": "code",
   "execution_count": 1,
   "metadata": {},
   "outputs": [],
   "source": [
    "import pandas as pd\n",
    "import matplotlib.pyplot as plt\n",
    "import seaborn as sns\n",
    "from scipy.stats import f_oneway, kruskal\n"
   ]
  },
  {
   "cell_type": "code",
   "execution_count": null,
   "metadata": {},
   "outputs": [],
   "source": [
    "benin = pd.read_csv(\"../data/benin_clean.csv\")\n",
    "sierra_leone = pd.read_csv(\"../data/sierra_leone_clean.csv\")\n",
    "togo = pd.read_csv(\"../data/togo_clean.csv\")\n",
    "\n",
    "# Add a column to indicate country\n",
    "benin[\"Country\"] = \"Benin\"\n",
    "sierra_leone[\"Country\"] = \"Sierra Leone\"\n",
    "togo[\"Country\"] = \"Togo\"\n",
    "\n",
    "# Combine all into one DataFrame\n",
    "df = pd.concat([benin, sierra_leone, togo], ignore_index=True)\n"
   ]
  },
  {
   "cell_type": "code",
   "execution_count": null,
   "metadata": {},
   "outputs": [],
   "source": [
    "metrics = [\"GHI\", \"DNI\", \"DHI\"]\n",
    "for metric in metrics:\n",
    "    plt.figure(figsize=(8, 6))\n",
    "    sns.boxplot(data=df, x=\"Country\", y=metric, palette=\"Set2\")\n",
    "    plt.title(f\"Boxplot of {metric} by Country\")\n",
    "    plt.ylabel(f\"{metric} (W/m²)\")\n",
    "    plt.xlabel(\"Country\")\n",
    "    plt.grid(True, linestyle=\"--\", alpha=0.5)\n",
    "    plt.show()\n"
   ]
  },
  {
   "cell_type": "code",
   "execution_count": null,
   "metadata": {},
   "outputs": [],
   "source": [
    "summary = df.groupby(\"Country\")[[\"GHI\", \"DNI\", \"DHI\"]].agg([\"mean\", \"median\", \"std\"]).round(2)\n",
    "summary"
   ]
  },
  {
   "cell_type": "code",
   "execution_count": null,
   "metadata": {},
   "outputs": [],
   "source": [
    "f_stat, p_value_anova = f_oneway(\n",
    "    benin[\"GHI\"],\n",
    "    sierra_leone[\"GHI\"],\n",
    "    togo[\"GHI\"]\n",
    ")\n",
    "\n",
    "print(f\"ANOVA p-value: {p_value_anova:.4f}\")"
   ]
  },
  {
   "cell_type": "code",
   "execution_count": null,
   "metadata": {},
   "outputs": [],
   "source": [
    "avg_ghi = df.groupby(\"Country\")[\"GHI\"].mean().sort_values(ascending=False)\n",
    "\n",
    "plt.figure(figsize=(6, 4))\n",
    "sns.barplot(x=avg_ghi.values, y=avg_ghi.index, palette=\"YlOrBr\")\n",
    "plt.xlabel(\"Average GHI (W/m²)\")\n",
    "plt.title(\"Average GHI by Country\")\n",
    "plt.grid(axis=\"x\", linestyle=\"--\", alpha=0.5)\n",
    "plt.tight_layout()\n",
    "plt.show()\n"
   ]
  },
  {
   "cell_type": "markdown",
   "metadata": {},
   "source": [
    "### 📌 Key Observations\n",
    "- **Togo** shows the highest median and average GHI, suggesting strong solar potential.\n",
    "- **Benin** presents moderate irradiance with relatively low variability.\n",
    "- **Sierra Leone** has the lowest GHI but the highest DHI, indicating potential for diffuse light systems.\n",
    "\n",
    "**Statistical Test:**  \n",
    "- ANOVA p-value: 0.0002 → Significant differences in GHI between countries.\n"
   ]
  }
 ],
 "metadata": {
  "kernelspec": {
   "display_name": "venv",
   "language": "python",
   "name": "python3"
  },
  "language_info": {
   "codemirror_mode": {
    "name": "ipython",
    "version": 3
   },
   "file_extension": ".py",
   "mimetype": "text/x-python",
   "name": "python",
   "nbconvert_exporter": "python",
   "pygments_lexer": "ipython3",
   "version": "3.12.5"
  }
 },
 "nbformat": 4,
 "nbformat_minor": 2
}
